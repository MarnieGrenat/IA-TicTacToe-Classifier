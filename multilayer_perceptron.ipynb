{
 "cells": [
  {
   "cell_type": "code",
   "execution_count": null,
   "id": "5e4acc37",
   "metadata": {},
   "outputs": [],
   "source": [
    "import pandas as pd\n",
    "from sklearn.neural_network import MLPClassifier\n",
    "from sklearn.model_selection import train_test_split\n",
    "import joblib\n",
    "from sklearn.metrics import accuracy_score, precision_score, recall_score, f1_score, classification_report"
   ]
  },
  {
   "cell_type": "code",
   "execution_count": null,
   "id": "66cbbccc",
   "metadata": {},
   "outputs": [],
   "source": [
    "PATH = './data/data.csv'\n",
    "PATH_OVERSAMPLED = './data/data_oversampled.csv'\n",
    "MODEL_PATH = 'models/mlp.pkl'\n",
    "X_WIN   = X = '1'\n",
    "O_WIN   = O ='-1'\n",
    "DRAW    = '0'\n",
    "ONGOING = '0.5'"
   ]
  },
  {
   "cell_type": "code",
   "execution_count": null,
   "id": "a5ffd369",
   "metadata": {},
   "outputs": [],
   "source": [
    "df = pd.read_csv(PATH_OVERSAMPLED)\n",
    "feature_cols = [str(i) for i in range(9)]\n",
    "X = df[feature_cols]\n",
    "\n",
    "mapping = {\n",
    "    -1.0: 0,   # O_WIN\n",
    "     0.0: 1,   # DRAW\n",
    "     0.5: 2,   # ONGOING\n",
    "     1.0: 3    # X_WIN\n",
    "}\n",
    "\n",
    "y = df['category'].map(mapping)\n",
    "df.sample(10)"
   ]
  },
  {
   "cell_type": "code",
   "execution_count": null,
   "id": "8d216a72",
   "metadata": {},
   "outputs": [],
   "source": [
    "X_train, X_temp, y_train, y_temp = train_test_split(\n",
    "    X, y, test_size=0.4, random_state=42, stratify=y\n",
    ")\n",
    "X_val, X_test, y_val, y_test = train_test_split(\n",
    "    X_temp, y_temp, test_size=0.5, random_state=42, stratify=y_temp\n",
    ")"
   ]
  },
  {
   "cell_type": "code",
   "execution_count": null,
   "id": "e59572a8",
   "metadata": {},
   "outputs": [],
   "source": [
    "mlp = MLPClassifier(\n",
    "    hidden_layer_sizes=(50, 25),  # exemplo: duas camadas, 50 e 25 neurônios\n",
    "    activation='relu',\n",
    "    solver='adam',\n",
    "    max_iter=500,\n",
    "    random_state=42\n",
    ")\n",
    "mlp.fit(X_train, y_train)"
   ]
  },
  {
   "cell_type": "code",
   "execution_count": null,
   "id": "75be8c00",
   "metadata": {},
   "outputs": [],
   "source": [
    "y_pred_val = mlp.predict(X_val)\n",
    "print(\"Validation Accuracy :\", accuracy_score(y_val, y_pred_val))\n",
    "print(\"Validation Precision:\", precision_score(y_val, y_pred_val, average='weighted'))\n",
    "print(\"Validation Recall   :\", recall_score(y_val, y_pred_val, average='weighted'))\n",
    "print(\"Validation F1-score :\", f1_score(y_val, y_pred_val, average='weighted'))"
   ]
  },
  {
   "cell_type": "code",
   "execution_count": null,
   "id": "60eeb26a",
   "metadata": {},
   "outputs": [],
   "source": [
    "print(\"\\nClassification Report (Validation):\\n\",\n",
    "      classification_report(y_val, y_pred_val, digits=4))"
   ]
  },
  {
   "cell_type": "code",
   "execution_count": null,
   "id": "a76a5838",
   "metadata": {},
   "outputs": [],
   "source": [
    "y_pred_test = mlp.predict(X_test)\n",
    "print(\"Test  Accuracy :\", accuracy_score(y_test, y_pred_test))\n",
    "print(\"Test  Precision:\", precision_score(y_test, y_pred_test, average='weighted'))\n",
    "print(\"Test  Recall   :\", recall_score(y_test, y_pred_test, average='weighted'))\n",
    "print(\"Test  F1-score :\", f1_score(y_test, y_pred_test, average='weighted'))"
   ]
  },
  {
   "cell_type": "code",
   "execution_count": null,
   "id": "2e12ab23",
   "metadata": {},
   "outputs": [],
   "source": [
    "joblib.dump(mlp, MODEL_PATH)\n",
    "print(f'MLP salvo em {MODEL_PATH}')"
   ]
  }
 ],
 "metadata": {
  "kernelspec": {
   "display_name": "AI-TicTacToe",
   "language": "python",
   "name": "python3"
  },
  "language_info": {
   "codemirror_mode": {
    "name": "ipython",
    "version": 3
   },
   "file_extension": ".py",
   "mimetype": "text/x-python",
   "name": "python",
   "nbconvert_exporter": "python",
   "pygments_lexer": "ipython3",
   "version": "3.13.2"
  }
 },
 "nbformat": 4,
 "nbformat_minor": 5
}
