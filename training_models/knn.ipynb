{
 "cells": [
  {
   "cell_type": "markdown",
   "id": "a05ae353",
   "metadata": {},
   "source": [
    "# Imports"
   ]
  },
  {
   "cell_type": "code",
   "execution_count": 15,
   "id": "09170b91",
   "metadata": {},
   "outputs": [],
   "source": [
    "import pandas as pd\n",
    "from sklearn.neighbors import KNeighborsClassifier\n",
    "from sklearn.model_selection import train_test_split as tts\n",
    "import joblib\n",
    "\n",
    "# diferentes tipos de experimentos\n",
    "from sklearn.model_selection import RepeatedStratifiedKFold, GridSearchCV\n",
    "\n",
    "import matplotlib.pyplot as plt\n",
    "\n",
    "import time\n",
    "import dependencies as dep"
   ]
  },
  {
   "cell_type": "code",
   "execution_count": 2,
   "id": "a508d255",
   "metadata": {},
   "outputs": [],
   "source": [
    "SIZE = 400\n",
    "\n",
    "PATH = '../data/data.csv'\n",
    "PATH_BALANCED = f'../data/data_balanced_{SIZE}.csv'\n",
    "MODEL_PATH = '../knn.pkl'\n",
    "\n",
    "X = 1\n",
    "O = -1\n",
    "BLANK = 0\n",
    "\n",
    "O_WIN   = 0\n",
    "DRAW    = 1\n",
    "ONGOING = 2\n",
    "X_WIN   = 3"
   ]
  },
  {
   "cell_type": "markdown",
   "id": "7b00474c",
   "metadata": {},
   "source": [
    "# Preparo dos Dados\n",
    "Devido o péssimo desempenho deste algoritmo até então, vou seguir algumas práticas para dados desbalanceados.\n",
    "\n",
    "Referências seguidas:\n",
    "\n",
    "- [Imbalanced Datasets - Google Developers](https://developers.google.com/machine-learning/crash-course/overfitting/imbalanced-datasets?hl=pt-br)\n",
    "- [Best Cross-Validation for Imbalanced Data](https://www.reddit.com/r/datascience/comments/1hba8s2/best_crossvalidation_for_imbalanced_data/)\n",
    "- [8 Tactics to Combat Imbalanced Classes in Your Machine Learning Dataset](https://machinelearningmastery.com/tactics-to-combat-imbalanced-classes-in-your-machine-learning-dataset/)\n",
    "- [kNN and unbalanced classes](https://stats.stackexchange.com/questions/341/knn-and-unbalanced-classes)"
   ]
  },
  {
   "cell_type": "code",
   "execution_count": 3,
   "id": "30e8f98d",
   "metadata": {},
   "outputs": [
    {
     "data": {
      "text/html": [
       "<div>\n",
       "<style scoped>\n",
       "    .dataframe tbody tr th:only-of-type {\n",
       "        vertical-align: middle;\n",
       "    }\n",
       "\n",
       "    .dataframe tbody tr th {\n",
       "        vertical-align: top;\n",
       "    }\n",
       "\n",
       "    .dataframe thead th {\n",
       "        text-align: right;\n",
       "    }\n",
       "</style>\n",
       "<table border=\"1\" class=\"dataframe\">\n",
       "  <thead>\n",
       "    <tr style=\"text-align: right;\">\n",
       "      <th></th>\n",
       "      <th>0</th>\n",
       "      <th>1</th>\n",
       "      <th>2</th>\n",
       "      <th>3</th>\n",
       "      <th>4</th>\n",
       "      <th>5</th>\n",
       "      <th>6</th>\n",
       "      <th>7</th>\n",
       "      <th>8</th>\n",
       "      <th>category</th>\n",
       "    </tr>\n",
       "  </thead>\n",
       "  <tbody>\n",
       "    <tr>\n",
       "      <th>2163</th>\n",
       "      <td>-1</td>\n",
       "      <td>1</td>\n",
       "      <td>-1</td>\n",
       "      <td>-1</td>\n",
       "      <td>1</td>\n",
       "      <td>-1</td>\n",
       "      <td>1</td>\n",
       "      <td>-1</td>\n",
       "      <td>1</td>\n",
       "      <td>1</td>\n",
       "    </tr>\n",
       "    <tr>\n",
       "      <th>43</th>\n",
       "      <td>-1</td>\n",
       "      <td>1</td>\n",
       "      <td>1</td>\n",
       "      <td>-1</td>\n",
       "      <td>0</td>\n",
       "      <td>1</td>\n",
       "      <td>-1</td>\n",
       "      <td>1</td>\n",
       "      <td>-1</td>\n",
       "      <td>0</td>\n",
       "    </tr>\n",
       "    <tr>\n",
       "      <th>1446</th>\n",
       "      <td>0</td>\n",
       "      <td>1</td>\n",
       "      <td>0</td>\n",
       "      <td>-1</td>\n",
       "      <td>1</td>\n",
       "      <td>-1</td>\n",
       "      <td>-1</td>\n",
       "      <td>1</td>\n",
       "      <td>1</td>\n",
       "      <td>3</td>\n",
       "    </tr>\n",
       "    <tr>\n",
       "      <th>1666</th>\n",
       "      <td>0</td>\n",
       "      <td>-1</td>\n",
       "      <td>1</td>\n",
       "      <td>0</td>\n",
       "      <td>-1</td>\n",
       "      <td>-1</td>\n",
       "      <td>1</td>\n",
       "      <td>1</td>\n",
       "      <td>1</td>\n",
       "      <td>3</td>\n",
       "    </tr>\n",
       "    <tr>\n",
       "      <th>1749</th>\n",
       "      <td>-1</td>\n",
       "      <td>1</td>\n",
       "      <td>-1</td>\n",
       "      <td>0</td>\n",
       "      <td>-1</td>\n",
       "      <td>0</td>\n",
       "      <td>1</td>\n",
       "      <td>1</td>\n",
       "      <td>1</td>\n",
       "      <td>3</td>\n",
       "    </tr>\n",
       "    <tr>\n",
       "      <th>2155</th>\n",
       "      <td>-1</td>\n",
       "      <td>1</td>\n",
       "      <td>-1</td>\n",
       "      <td>-1</td>\n",
       "      <td>-1</td>\n",
       "      <td>1</td>\n",
       "      <td>1</td>\n",
       "      <td>-1</td>\n",
       "      <td>1</td>\n",
       "      <td>1</td>\n",
       "    </tr>\n",
       "    <tr>\n",
       "      <th>1537</th>\n",
       "      <td>-1</td>\n",
       "      <td>0</td>\n",
       "      <td>-1</td>\n",
       "      <td>-1</td>\n",
       "      <td>0</td>\n",
       "      <td>1</td>\n",
       "      <td>1</td>\n",
       "      <td>1</td>\n",
       "      <td>1</td>\n",
       "      <td>3</td>\n",
       "    </tr>\n",
       "    <tr>\n",
       "      <th>153</th>\n",
       "      <td>-1</td>\n",
       "      <td>1</td>\n",
       "      <td>0</td>\n",
       "      <td>-1</td>\n",
       "      <td>1</td>\n",
       "      <td>0</td>\n",
       "      <td>-1</td>\n",
       "      <td>0</td>\n",
       "      <td>1</td>\n",
       "      <td>0</td>\n",
       "    </tr>\n",
       "    <tr>\n",
       "      <th>2028</th>\n",
       "      <td>1</td>\n",
       "      <td>1</td>\n",
       "      <td>-1</td>\n",
       "      <td>-1</td>\n",
       "      <td>1</td>\n",
       "      <td>1</td>\n",
       "      <td>1</td>\n",
       "      <td>-1</td>\n",
       "      <td>-1</td>\n",
       "      <td>1</td>\n",
       "    </tr>\n",
       "    <tr>\n",
       "      <th>750</th>\n",
       "      <td>0</td>\n",
       "      <td>0</td>\n",
       "      <td>0</td>\n",
       "      <td>0</td>\n",
       "      <td>0</td>\n",
       "      <td>1</td>\n",
       "      <td>0</td>\n",
       "      <td>-1</td>\n",
       "      <td>0</td>\n",
       "      <td>2</td>\n",
       "    </tr>\n",
       "  </tbody>\n",
       "</table>\n",
       "</div>"
      ],
      "text/plain": [
       "      0  1  2  3  4  5  6  7  8  category\n",
       "2163 -1  1 -1 -1  1 -1  1 -1  1         1\n",
       "43   -1  1  1 -1  0  1 -1  1 -1         0\n",
       "1446  0  1  0 -1  1 -1 -1  1  1         3\n",
       "1666  0 -1  1  0 -1 -1  1  1  1         3\n",
       "1749 -1  1 -1  0 -1  0  1  1  1         3\n",
       "2155 -1  1 -1 -1 -1  1  1 -1  1         1\n",
       "1537 -1  0 -1 -1  0  1  1  1  1         3\n",
       "153  -1  1  0 -1  1  0 -1  0  1         0\n",
       "2028  1  1 -1 -1  1  1  1 -1 -1         1\n",
       "750   0  0  0  0  0  1  0 -1  0         2"
      ]
     },
     "execution_count": 3,
     "metadata": {},
     "output_type": "execute_result"
    }
   ],
   "source": [
    "df = pd.read_csv(PATH_BALANCED)\n",
    "feature_cols = [str(i) for i in range(9)]\n",
    "X = df[feature_cols]\n",
    "\n",
    "y = df['category']\n",
    "df.sample(10)"
   ]
  },
  {
   "cell_type": "code",
   "execution_count": 5,
   "id": "8036380c",
   "metadata": {},
   "outputs": [],
   "source": [
    "X_train, X_temp, y_train, y_temp = tts(X, y, test_size=0.4, random_state=12, stratify=y)\n",
    "X_val, X_test, y_val, y_test = tts(X_temp, y_temp, test_size=0.5, random_state=12, stratify=y_temp)"
   ]
  },
  {
   "cell_type": "markdown",
   "id": "78777302",
   "metadata": {},
   "source": [
    "# Treinamento"
   ]
  },
  {
   "cell_type": "code",
   "execution_count": 11,
   "id": "8289b3a9",
   "metadata": {},
   "outputs": [
    {
     "name": "stdout",
     "output_type": "stream",
     "text": [
      "Tempo de Indução: 45.50603747367859 segundos\n"
     ]
    }
   ],
   "source": [
    "# cv = StratifiedKFold(n_splits=5, shuffle=True, random_state=42)\n",
    "cv = RepeatedStratifiedKFold(n_splits=22, n_repeats=11, random_state=42)\n",
    "\n",
    "param_grid = {\n",
    "    'n_neighbors' : [1, 2, 3, 4, 5, 6, 7],\n",
    "    'weights' : ['distance', 'uniform'],\n",
    "    'p' : [1, 2]\n",
    "}\n",
    "knn = KNeighborsClassifier(metric='minkowski')\n",
    "grid = GridSearchCV(knn, param_grid, cv=cv, scoring='f1_macro', return_train_score=True, n_jobs=-1)\n",
    "\n",
    "train_start = time.time()\n",
    "model = grid.fit(X_train.to_numpy(), y_train.to_numpy())\n",
    "train_end = time.time()\n",
    "print(f\"Tempo de Indução: {train_end-train_start} segundos\")"
   ]
  },
  {
   "cell_type": "code",
   "execution_count": 16,
   "id": "e348c9e5",
   "metadata": {},
   "outputs": [
    {
     "name": "stdout",
     "output_type": "stream",
     "text": [
      "Melhores Hiperparâmetros={'n_neighbors': 7, 'p': 2, 'weights': 'distance'}\n",
      "Melhor F1=0.8610318451073515\n"
     ]
    },
    {
     "data": {
      "image/png": "[encoded data removed]",
      "text/plain": [
       "<Figure size 800x500 with 1 Axes>"
      ]
     },
     "metadata": {},
     "output_type": "display_data"
    },
    {
     "name": "stdout",
     "output_type": "stream",
     "text": [
      "    param_n_neighbors param_weights  param_p  mean_test_score\n",
      "26                  7      distance        2         0.861032\n",
      "22                  6      distance        2         0.858458\n",
      "27                  7       uniform        2         0.858017\n",
      "18                  5      distance        2         0.856574\n",
      "14                  4      distance        2         0.856445\n",
      "24                  7      distance        1         0.853521\n",
      "19                  5       uniform        2         0.852638\n",
      "10                  3      distance        2         0.851683\n",
      "20                  6      distance        1         0.850285\n",
      "23                  6       uniform        2         0.849028\n",
      "16                  5      distance        1         0.848805\n",
      "15                  4       uniform        2         0.847039\n",
      "11                  3       uniform        2         0.846722\n",
      "25                  7       uniform        1         0.845174\n",
      "12                  4      distance        1         0.845114\n"
     ]
    }
   ],
   "source": [
    "print('Melhores Hiperparâmetros='+str(model.best_params_))\n",
    "print('Melhor F1=' + str(model.best_score_))\n",
    "results = pd.DataFrame(model.cv_results_)\n",
    "\n",
    "# Agrupa por max_depth e calcula média do mean_test_score\n",
    "agg_dt = (results\n",
    "        .groupby('param_n_neighbors')['mean_test_score']\n",
    "        .mean()\n",
    "        .reset_index())\n",
    "\n",
    "plt.figure(figsize=(8, 5))\n",
    "plt.plot(agg_dt['param_n_neighbors'], agg_dt['mean_test_score'], marker='o', color='green')\n",
    "plt.xlabel('param_n_neighbors')\n",
    "plt.ylabel('F1 Teste médio (CV)')\n",
    "plt.title('F1 médio de teste x  param_n_neighbors')\n",
    "plt.grid(True)\n",
    "plt.show()\n",
    "\n",
    "print(results[['param_n_neighbors', 'param_weights', 'param_p', 'mean_test_score']]\n",
    "    .sort_values(by='mean_test_score', ascending=False)\n",
    "  .head(15))"
   ]
  },
  {
   "cell_type": "code",
   "execution_count": 13,
   "id": "48233073",
   "metadata": {},
   "outputs": [
    {
     "name": "stdout",
     "output_type": "stream",
     "text": [
      "========== MÉTRICAS ==========\n",
      "Tempo de Execução de Testes = 0.0090 segundos\n",
      "              precision    recall  f1-score   support\n",
      "\n",
      "           0     0.8571    0.9500    0.9012       120\n",
      "           1     0.9023    1.0000    0.9486       120\n",
      "           2     0.9157    0.6333    0.7488       120\n",
      "           3     0.9008    0.9833    0.9402       120\n",
      "\n",
      "    accuracy                         0.8917       480\n",
      "   macro avg     0.8940    0.8917    0.8847       480\n",
      "weighted avg     0.8940    0.8917    0.8847       480\n",
      "\n",
      "========== ANÁLISE DE RESULTADOS ==========\n"
     ]
    },
    {
     "data": {
      "image/png": "[encoded data removed]",
      "text/plain": [
       "<Figure size 640x480 with 2 Axes>"
      ]
     },
     "metadata": {},
     "output_type": "display_data"
    }
   ],
   "source": [
    "dep.test(model, X_val, y_val)"
   ]
  },
  {
   "cell_type": "code",
   "execution_count": 14,
   "id": "572c5ef9",
   "metadata": {},
   "outputs": [
    {
     "name": "stdout",
     "output_type": "stream",
     "text": [
      "KNN salvo em ../knn.pkl\n"
     ]
    }
   ],
   "source": [
    "joblib.dump(knn, MODEL_PATH)\n",
    "print(f'KNN salvo em {MODEL_PATH}')"
   ]
  },
  {
   "cell_type": "code",
   "execution_count": null,
   "id": "8b1ca75a",
   "metadata": {},
   "outputs": [],
   "source": []
  }
 ],
 "metadata": {
  "kernelspec": {
   "display_name": "AI-TicTacToe",
   "language": "python",
   "name": "python3"
  },
  "language_info": {
   "codemirror_mode": {
    "name": "ipython",
    "version": 3
   },
   "file_extension": ".py",
   "mimetype": "text/x-python",
   "name": "python",
   "nbconvert_exporter": "python",
   "pygments_lexer": "ipython3",
   "version": "3.12.9"
  }
 },
 "nbformat": 4,
 "nbformat_minor": 5
}
