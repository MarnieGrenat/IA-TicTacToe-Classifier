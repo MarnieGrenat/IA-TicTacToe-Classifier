{
 "cells": [
  {
   "cell_type": "code",
   "execution_count": 34,
   "id": "bcb29c59",
   "metadata": {},
   "outputs": [],
   "source": [
    "import pandas as pd\n",
    "import joblib\n",
    "from sklearn.model_selection import train_test_split as tts\n",
    "from sklearn.tree import DecisionTreeClassifier, export_text\n",
    "from sklearn.metrics import accuracy_score, precision_score, recall_score, f1_score, classification_report\n",
    "\n",
    "# diferentes tipos de experimentos\n",
    "from sklearn.model_selection import RepeatedStratifiedKFold, GridSearchCV\n",
    "import time\n",
    "\n",
    "import matplotlib.pyplot as plt\n",
    "\n",
    "import dependencies as dep"
   ]
  },
  {
   "cell_type": "code",
   "execution_count": 68,
   "id": "d641d058",
   "metadata": {},
   "outputs": [],
   "source": [
    "SIZE = 800\n",
    "\n",
    "PATH = '../data/data.csv'\n",
    "PATH_BALANCED = f'../data/data_balanced_{SIZE}.csv'\n",
    "MODEL_PATH = '../decision_tree.pkl'\n",
    "\n",
    "X = 1\n",
    "O = -1\n",
    "BLANK = 0\n",
    "\n",
    "O_WIN   = 0\n",
    "DRAW    = 1\n",
    "ONGOING = 2\n",
    "X_WIN   = 3"
   ]
  },
  {
   "cell_type": "code",
   "execution_count": 69,
   "id": "46b8bf25",
   "metadata": {},
   "outputs": [
    {
     "data": {
      "text/html": [
       "<div>\n",
       "<style scoped>\n",
       "    .dataframe tbody tr th:only-of-type {\n",
       "        vertical-align: middle;\n",
       "    }\n",
       "\n",
       "    .dataframe tbody tr th {\n",
       "        vertical-align: top;\n",
       "    }\n",
       "\n",
       "    .dataframe thead th {\n",
       "        text-align: right;\n",
       "    }\n",
       "</style>\n",
       "<table border=\"1\" class=\"dataframe\">\n",
       "  <thead>\n",
       "    <tr style=\"text-align: right;\">\n",
       "      <th></th>\n",
       "      <th>0</th>\n",
       "      <th>1</th>\n",
       "      <th>2</th>\n",
       "      <th>3</th>\n",
       "      <th>4</th>\n",
       "      <th>5</th>\n",
       "      <th>6</th>\n",
       "      <th>7</th>\n",
       "      <th>8</th>\n",
       "      <th>category</th>\n",
       "    </tr>\n",
       "  </thead>\n",
       "  <tbody>\n",
       "    <tr>\n",
       "      <th>102</th>\n",
       "      <td>0</td>\n",
       "      <td>1</td>\n",
       "      <td>1</td>\n",
       "      <td>-1</td>\n",
       "      <td>-1</td>\n",
       "      <td>-1</td>\n",
       "      <td>0</td>\n",
       "      <td>0</td>\n",
       "      <td>0</td>\n",
       "      <td>0</td>\n",
       "    </tr>\n",
       "    <tr>\n",
       "      <th>931</th>\n",
       "      <td>0</td>\n",
       "      <td>1</td>\n",
       "      <td>1</td>\n",
       "      <td>-1</td>\n",
       "      <td>-1</td>\n",
       "      <td>1</td>\n",
       "      <td>0</td>\n",
       "      <td>-1</td>\n",
       "      <td>0</td>\n",
       "      <td>2</td>\n",
       "    </tr>\n",
       "    <tr>\n",
       "      <th>374</th>\n",
       "      <td>0</td>\n",
       "      <td>0</td>\n",
       "      <td>0</td>\n",
       "      <td>1</td>\n",
       "      <td>0</td>\n",
       "      <td>1</td>\n",
       "      <td>-1</td>\n",
       "      <td>-1</td>\n",
       "      <td>-1</td>\n",
       "      <td>0</td>\n",
       "    </tr>\n",
       "    <tr>\n",
       "      <th>2255</th>\n",
       "      <td>0</td>\n",
       "      <td>1</td>\n",
       "      <td>-1</td>\n",
       "      <td>0</td>\n",
       "      <td>-1</td>\n",
       "      <td>-1</td>\n",
       "      <td>1</td>\n",
       "      <td>1</td>\n",
       "      <td>1</td>\n",
       "      <td>3</td>\n",
       "    </tr>\n",
       "    <tr>\n",
       "      <th>3082</th>\n",
       "      <td>0</td>\n",
       "      <td>-1</td>\n",
       "      <td>-1</td>\n",
       "      <td>-1</td>\n",
       "      <td>1</td>\n",
       "      <td>1</td>\n",
       "      <td>0</td>\n",
       "      <td>1</td>\n",
       "      <td>1</td>\n",
       "      <td>2</td>\n",
       "    </tr>\n",
       "    <tr>\n",
       "      <th>1979</th>\n",
       "      <td>1</td>\n",
       "      <td>1</td>\n",
       "      <td>0</td>\n",
       "      <td>-1</td>\n",
       "      <td>1</td>\n",
       "      <td>-1</td>\n",
       "      <td>0</td>\n",
       "      <td>-1</td>\n",
       "      <td>1</td>\n",
       "      <td>3</td>\n",
       "    </tr>\n",
       "    <tr>\n",
       "      <th>13</th>\n",
       "      <td>1</td>\n",
       "      <td>-1</td>\n",
       "      <td>1</td>\n",
       "      <td>0</td>\n",
       "      <td>-1</td>\n",
       "      <td>0</td>\n",
       "      <td>0</td>\n",
       "      <td>-1</td>\n",
       "      <td>1</td>\n",
       "      <td>0</td>\n",
       "    </tr>\n",
       "    <tr>\n",
       "      <th>1622</th>\n",
       "      <td>1</td>\n",
       "      <td>1</td>\n",
       "      <td>1</td>\n",
       "      <td>-1</td>\n",
       "      <td>0</td>\n",
       "      <td>0</td>\n",
       "      <td>-1</td>\n",
       "      <td>1</td>\n",
       "      <td>-1</td>\n",
       "      <td>3</td>\n",
       "    </tr>\n",
       "    <tr>\n",
       "      <th>2789</th>\n",
       "      <td>1</td>\n",
       "      <td>1</td>\n",
       "      <td>-1</td>\n",
       "      <td>-1</td>\n",
       "      <td>-1</td>\n",
       "      <td>1</td>\n",
       "      <td>1</td>\n",
       "      <td>1</td>\n",
       "      <td>-1</td>\n",
       "      <td>1</td>\n",
       "    </tr>\n",
       "    <tr>\n",
       "      <th>2717</th>\n",
       "      <td>-1</td>\n",
       "      <td>1</td>\n",
       "      <td>-1</td>\n",
       "      <td>1</td>\n",
       "      <td>-1</td>\n",
       "      <td>1</td>\n",
       "      <td>1</td>\n",
       "      <td>-1</td>\n",
       "      <td>1</td>\n",
       "      <td>1</td>\n",
       "    </tr>\n",
       "  </tbody>\n",
       "</table>\n",
       "</div>"
      ],
      "text/plain": [
       "      0  1  2  3  4  5  6  7  8  category\n",
       "102   0  1  1 -1 -1 -1  0  0  0         0\n",
       "931   0  1  1 -1 -1  1  0 -1  0         2\n",
       "374   0  0  0  1  0  1 -1 -1 -1         0\n",
       "2255  0  1 -1  0 -1 -1  1  1  1         3\n",
       "3082  0 -1 -1 -1  1  1  0  1  1         2\n",
       "1979  1  1  0 -1  1 -1  0 -1  1         3\n",
       "13    1 -1  1  0 -1  0  0 -1  1         0\n",
       "1622  1  1  1 -1  0  0 -1  1 -1         3\n",
       "2789  1  1 -1 -1 -1  1  1  1 -1         1\n",
       "2717 -1  1 -1  1 -1  1  1 -1  1         1"
      ]
     },
     "execution_count": 69,
     "metadata": {},
     "output_type": "execute_result"
    }
   ],
   "source": [
    "df = pd.read_csv(PATH_BALANCED)\n",
    "df.sample(10)"
   ]
  },
  {
   "cell_type": "code",
   "execution_count": 70,
   "id": "96dfc622",
   "metadata": {},
   "outputs": [],
   "source": [
    "feature_cols = [str(i) for i in range(9)]\n",
    "X = df[feature_cols]\n",
    "\n",
    "\n",
    "y = df['category']"
   ]
  },
  {
   "cell_type": "code",
   "execution_count": 71,
   "id": "fb8161e4",
   "metadata": {},
   "outputs": [],
   "source": [
    "X_train, X_temp, y_train, y_temp = tts(\n",
    "    X, y, test_size=0.4, random_state=2312342, stratify=y\n",
    ")\n",
    "X_val, X_test, y_val, y_test = tts(\n",
    "    X_temp, y_temp, test_size=0.5, random_state=2312342, stratify=y_temp\n",
    ")"
   ]
  },
  {
   "cell_type": "code",
   "execution_count": 72,
   "id": "7546a4b7",
   "metadata": {},
   "outputs": [
    {
     "name": "stdout",
     "output_type": "stream",
     "text": [
      "Tempo de Indução: 12.1234769821167 segundos\n"
     ]
    }
   ],
   "source": [
    "dt = DecisionTreeClassifier(random_state=42)\n",
    "\n",
    "cv = RepeatedStratifiedKFold(n_splits=11, n_repeats=25, random_state=42)\n",
    "\n",
    "param_grid = {\n",
    "    'criterion' : ['gini', 'entropy', 'log_loss'],\n",
    "    'max_depth' : [6, 8, 10,12],\n",
    "    'min_samples_split' : [2, 4, 6, 8],\n",
    "}\n",
    "grid = GridSearchCV(dt, param_grid, cv=cv, scoring='f1_macro', return_train_score=True, n_jobs=-1)\n",
    "\n",
    "train_start = time.time()\n",
    "model = grid.fit(X_train.to_numpy(), y_train.to_numpy())\n",
    "train_end = time.time()\n",
    "print(f\"Tempo de Indução: {train_end-train_start} segundos\")"
   ]
  },
  {
   "cell_type": "code",
   "execution_count": 73,
   "id": "287df133",
   "metadata": {},
   "outputs": [
    {
     "name": "stdout",
     "output_type": "stream",
     "text": [
      "Melhores Hiperparâmetros={'criterion': 'gini', 'max_depth': 12, 'min_samples_split': 2}\n",
      "Melhor F1=0.8828107397206462\n"
     ]
    },
    {
     "data": {
      "image/png": "[encoded data removed]",
      "text/plain": [
       "<Figure size 800x500 with 1 Axes>"
      ]
     },
     "metadata": {},
     "output_type": "display_data"
    },
    {
     "name": "stdout",
     "output_type": "stream",
     "text": [
      "    param_max_depth param_criterion  param_min_samples_split  mean_test_score\n",
      "12               12            gini                        2         0.882811\n",
      "8                10            gini                        2         0.874454\n",
      "28               12         entropy                        2         0.873489\n",
      "44               12        log_loss                        2         0.873489\n",
      "13               12            gini                        4         0.870887\n",
      "9                10            gini                        4         0.868280\n",
      "24               10         entropy                        2         0.864444\n",
      "40               10        log_loss                        2         0.864444\n",
      "45               12        log_loss                        4         0.864305\n",
      "29               12         entropy                        4         0.864305\n",
      "41               10        log_loss                        4         0.859187\n",
      "25               10         entropy                        4         0.859187\n",
      "14               12            gini                        6         0.855507\n",
      "10               10            gini                        6         0.852117\n",
      "30               12         entropy                        6         0.844876\n"
     ]
    }
   ],
   "source": [
    "print('Melhores Hiperparâmetros='+str(model.best_params_))\n",
    "print('Melhor F1=' + str(model.best_score_))\n",
    "results = pd.DataFrame(model.cv_results_)\n",
    "\n",
    "# Agrupa por max_depth e calcula média do mean_test_score\n",
    "agg_dt = (results\n",
    "        .groupby('param_max_depth')['mean_test_score']\n",
    "        .mean()\n",
    "        .reset_index())\n",
    "\n",
    "plt.figure(figsize=(8, 5))\n",
    "plt.plot(agg_dt['param_max_depth'], agg_dt['mean_test_score'], marker='o', color='green')\n",
    "plt.xlabel('param_max_depth')\n",
    "plt.ylabel('F1 Teste médio (CV)')\n",
    "plt.title('F1 médio de teste x  param_max_depth')\n",
    "plt.grid(True)\n",
    "plt.show()\n",
    "\n",
    "print(results[['param_max_depth', 'param_criterion', 'param_min_samples_split', 'mean_test_score']]\n",
    "    .sort_values(by='mean_test_score', ascending=False)\n",
    "  .head(15))"
   ]
  },
  {
   "cell_type": "code",
   "execution_count": 75,
   "id": "0736df72",
   "metadata": {},
   "outputs": [
    {
     "name": "stdout",
     "output_type": "stream",
     "text": [
      "========== MÉTRICAS ==========\n",
      "Tempo de Execução de Testes = 0.0011 segundos\n",
      "              precision    recall  f1-score   support\n",
      "\n",
      "           0     0.8970    0.9250    0.9108       160\n",
      "           1     0.9697    1.0000    0.9846       160\n",
      "           2     0.8816    0.8375    0.8590       160\n",
      "           3     0.8987    0.8875    0.8931       160\n",
      "\n",
      "    accuracy                         0.9125       640\n",
      "   macro avg     0.9117    0.9125    0.9119       640\n",
      "weighted avg     0.9117    0.9125    0.9119       640\n",
      "\n",
      "========== ANÁLISE DE RESULTADOS ==========\n"
     ]
    },
    {
     "data": {
      "image/png": "[encoded data removed]",
      "text/plain": [
       "<Figure size 640x480 with 2 Axes>"
      ]
     },
     "metadata": {},
     "output_type": "display_data"
    }
   ],
   "source": [
    "dep.test(model, X_val, y_val)"
   ]
  },
  {
   "cell_type": "code",
   "execution_count": 76,
   "id": "796743dd",
   "metadata": {},
   "outputs": [
    {
     "name": "stdout",
     "output_type": "stream",
     "text": [
      "Modelo salvo em ../decision_tree.pkl\n"
     ]
    }
   ],
   "source": [
    "joblib.dump(model, MODEL_PATH)\n",
    "print(f'Modelo salvo em {MODEL_PATH}')"
   ]
  },
  {
   "cell_type": "code",
   "execution_count": null,
   "id": "ab51ae28",
   "metadata": {},
   "outputs": [],
   "source": []
  }
 ],
 "metadata": {
  "kernelspec": {
   "display_name": "AI-TicTacToe",
   "language": "python",
   "name": "python3"
  },
  "language_info": {
   "codemirror_mode": {
    "name": "ipython",
    "version": 3
   },
   "file_extension": ".py",
   "mimetype": "text/x-python",
   "name": "python",
   "nbconvert_exporter": "python",
   "pygments_lexer": "ipython3",
   "version": "3.12.9"
  }
 },
 "nbformat": 4,
 "nbformat_minor": 5
}
