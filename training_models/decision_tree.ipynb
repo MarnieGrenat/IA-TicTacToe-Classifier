{
 "cells": [
  {
   "cell_type": "code",
   "execution_count": null,
   "id": "bcb29c59",
   "metadata": {},
   "outputs": [],
   "source": [
    "import pandas as pd\n",
    "import joblib\n",
    "from sklearn.model_selection import train_test_split\n",
    "from sklearn.tree import DecisionTreeClassifier, export_text\n",
    "from sklearn.metrics import accuracy_score, precision_score, recall_score, f1_score, classification_report"
   ]
  },
  {
   "cell_type": "code",
   "execution_count": null,
   "id": "d641d058",
   "metadata": {},
   "outputs": [],
   "source": [
    "PATH = '../data/data.csv'\n",
    "PATH_OVERSAMPLED = '../data/data_oversampled.csv'\n",
    "MODEL_PATH = '../decision_tree.pkl'\n",
    "\n",
    "X = 1\n",
    "O = -1\n",
    "BLANK = 0\n",
    "\n",
    "O_WIN   = 0\n",
    "DRAW    = 1\n",
    "ONGOING = 2\n",
    "X_WIN   = 3"
   ]
  },
  {
   "cell_type": "code",
   "execution_count": null,
   "id": "46b8bf25",
   "metadata": {},
   "outputs": [],
   "source": [
    "df = pd.read_csv(PATH)\n",
    "df.sample(10)"
   ]
  },
  {
   "cell_type": "code",
   "execution_count": null,
   "id": "96dfc622",
   "metadata": {},
   "outputs": [],
   "source": [
    "feature_cols = [str(i) for i in range(9)]\n",
    "X = df[feature_cols]\n",
    "\n",
    "\n",
    "y = df['category']"
   ]
  },
  {
   "cell_type": "code",
   "execution_count": null,
   "id": "fb8161e4",
   "metadata": {},
   "outputs": [],
   "source": [
    "X_train, X_temp, y_train, y_temp = train_test_split(\n",
    "    X, y, test_size=0.4, random_state=42, stratify=y\n",
    ")\n",
    "X_val, X_test, y_val, y_test = train_test_split(\n",
    "    X_temp, y_temp, test_size=0.5, random_state=42, stratify=y_temp\n",
    ")"
   ]
  },
  {
   "cell_type": "code",
   "execution_count": null,
   "id": "7546a4b7",
   "metadata": {},
   "outputs": [],
   "source": [
    "dt = DecisionTreeClassifier(\n",
    "    criterion='gini',\n",
    "    max_depth=10,\n",
    "    min_samples_split=2,\n",
    "    random_state=42\n",
    ")"
   ]
  },
  {
   "cell_type": "code",
   "execution_count": null,
   "id": "287df133",
   "metadata": {},
   "outputs": [],
   "source": [
    "dt.fit(X_train.to_numpy(), y_train.to_numpy())"
   ]
  },
  {
   "cell_type": "code",
   "execution_count": null,
   "id": "0736df72",
   "metadata": {},
   "outputs": [],
   "source": [
    "y_pred_val = dt.predict(X_val)\n",
    "print(\"Validation Accuracy :\", accuracy_score(y_val, y_pred_val))\n",
    "print(\"Validation Precision:\", precision_score(y_val, y_pred_val, average='weighted'))\n",
    "print(\"Validation Recall   :\", recall_score(y_val, y_pred_val, average='weighted'))\n",
    "print(\"Validation F1-score :\", f1_score(y_val, y_pred_val, average='weighted'))"
   ]
  },
  {
   "cell_type": "code",
   "execution_count": null,
   "id": "f21430ba",
   "metadata": {},
   "outputs": [],
   "source": [
    "print(\"\\nClassification Report (Validation):\\n\",\n",
    "      classification_report(y_val, y_pred_val, digits=4))"
   ]
  },
  {
   "cell_type": "code",
   "execution_count": null,
   "id": "91b7335c",
   "metadata": {},
   "outputs": [],
   "source": [
    "print(\"\\nÁrvore de Decisão (texto):\\n\", export_text(dt, feature_names=feature_cols))"
   ]
  },
  {
   "cell_type": "code",
   "execution_count": null,
   "id": "5112c694",
   "metadata": {},
   "outputs": [],
   "source": [
    "y_pred_test = dt.predict(X_test)\n",
    "print(\"Test  Accuracy :\", accuracy_score(y_test, y_pred_test))\n",
    "print(\"Test  Precision:\", precision_score(y_test, y_pred_test, average='weighted'))\n",
    "print(\"Test  Recall   :\", recall_score(y_test, y_pred_test, average='weighted'))\n",
    "print(\"Test  F1-score :\", f1_score(y_test, y_pred_test, average='weighted'))"
   ]
  },
  {
   "cell_type": "code",
   "execution_count": null,
   "id": "796743dd",
   "metadata": {},
   "outputs": [],
   "source": [
    "dt = DecisionTreeClassifier(random_state=42)\n",
    "dt.fit(X_train, y_train)\n",
    "\n",
    "joblib.dump(dt, MODEL_PATH)\n",
    "print(f'Modelo salvo em {MODEL_PATH}')\n"
   ]
  }
 ],
 "metadata": {
  "kernelspec": {
   "display_name": "AI-TicTacToe",
   "language": "python",
   "name": "python3"
  },
  "language_info": {
   "codemirror_mode": {
    "name": "ipython",
    "version": 3
   },
   "file_extension": ".py",
   "mimetype": "text/x-python",
   "name": "python",
   "nbconvert_exporter": "python",
   "pygments_lexer": "ipython3",
   "version": "3.12.9"
  }
 },
 "nbformat": 4,
 "nbformat_minor": 5
}
