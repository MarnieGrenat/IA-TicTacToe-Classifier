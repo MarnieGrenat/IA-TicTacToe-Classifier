{
 "cells": [
  {
   "cell_type": "code",
   "execution_count": null,
   "id": "5e4acc37",
   "metadata": {},
   "outputs": [],
   "source": [
    "import pandas as pd\n",
    "from sklearn.neural_network import MLPClassifier\n",
    "from sklearn.model_selection import train_test_split\n",
    "import joblib\n",
    "from sklearn.metrics import accuracy_score, precision_score, recall_score, f1_score, classification_report"
   ]
  },
  {
   "cell_type": "code",
   "execution_count": null,
   "id": "66cbbccc",
   "metadata": {},
   "outputs": [],
   "source": [
    "PATH = '../data/data.csv'\n",
    "PATH_OVERSAMPLED = '../data/data_oversampled.csv'\n",
    "MODEL_PATH = '../mlp.pkl'\n",
    "\n",
    "X = 1\n",
    "O = -1\n",
    "BLANK = 0\n",
    "\n",
    "O_WIN   = 0\n",
    "DRAW    = 1\n",
    "ONGOING = 2\n",
    "X_WIN   = 3"
   ]
  },
  {
   "cell_type": "code",
   "execution_count": null,
   "id": "a5ffd369",
   "metadata": {},
   "outputs": [],
   "source": [
    "df = pd.read_csv(PATH)\n",
    "feature_cols = [str(i) for i in range(9)]\n",
    "X = df[feature_cols]\n",
    "\n",
    "y = df['category']\n",
    "df.sample(10)"
   ]
  },
  {
   "cell_type": "code",
   "execution_count": null,
   "id": "8d216a72",
   "metadata": {},
   "outputs": [],
   "source": [
    "X_train, X_temp, y_train, y_temp = train_test_split(\n",
    "    X, y, test_size=0.4, random_state=42, stratify=y\n",
    ")\n",
    "X_val, X_test, y_val, y_test = train_test_split(\n",
    "    X_temp, y_temp, test_size=0.5, random_state=42, stratify=y_temp\n",
    ")"
   ]
  },
  {
   "cell_type": "code",
   "execution_count": null,
   "id": "e59572a8",
   "metadata": {},
   "outputs": [],
   "source": [
    "mlp = MLPClassifier(\n",
    "    hidden_layer_sizes=(50, 25),  # exemplo: duas camadas, 50 e 25 neurônios\n",
    "    activation='relu',\n",
    "    solver='adam',\n",
    "    max_iter=500,\n",
    "    random_state=42\n",
    ")\n",
    "mlp.fit(X_train.to_numpy(), y_train.to_numpy())"
   ]
  },
  {
   "cell_type": "code",
   "execution_count": null,
   "id": "75be8c00",
   "metadata": {},
   "outputs": [],
   "source": [
    "y_pred_val = mlp.predict(X_val)\n",
    "print(\"Validation Accuracy :\", accuracy_score(y_val, y_pred_val))\n",
    "print(\"Validation Precision:\", precision_score(y_val, y_pred_val, average='weighted'))\n",
    "print(\"Validation Recall   :\", recall_score(y_val, y_pred_val, average='weighted'))\n",
    "print(\"Validation F1-score :\", f1_score(y_val, y_pred_val, average='weighted'))"
   ]
  },
  {
   "cell_type": "code",
   "execution_count": null,
   "id": "60eeb26a",
   "metadata": {},
   "outputs": [],
   "source": [
    "print(\"\\nClassification Report (Validation):\\n\",\n",
    "      classification_report(y_val, y_pred_val, digits=4))"
   ]
  },
  {
   "cell_type": "code",
   "execution_count": null,
   "id": "a76a5838",
   "metadata": {},
   "outputs": [],
   "source": [
    "y_pred_test = mlp.predict(X_test)\n",
    "print(\"Test  Accuracy :\", accuracy_score(y_test, y_pred_test))\n",
    "print(\"Test  Precision:\", precision_score(y_test, y_pred_test, average='weighted'))\n",
    "print(\"Test  Recall   :\", recall_score(y_test, y_pred_test, average='weighted'))\n",
    "print(\"Test  F1-score :\", f1_score(y_test, y_pred_test, average='weighted'))"
   ]
  },
  {
   "cell_type": "code",
   "execution_count": null,
   "id": "2e12ab23",
   "metadata": {},
   "outputs": [],
   "source": [
    "joblib.dump(mlp, MODEL_PATH)\n",
    "print(f'MLP salvo em {MODEL_PATH}')"
   ]
  },
  {
   "cell_type": "code",
   "execution_count": null,
   "id": "d3564c04",
   "metadata": {},
   "outputs": [],
   "source": []
  }
 ],
 "metadata": {
  "kernelspec": {
   "display_name": "AI-TicTacToe",
   "language": "python",
   "name": "python3"
  },
  "language_info": {
   "codemirror_mode": {
    "name": "ipython",
    "version": 3
   },
   "file_extension": ".py",
   "mimetype": "text/x-python",
   "name": "python",
   "nbconvert_exporter": "python",
   "pygments_lexer": "ipython3",
   "version": "3.12.9"
  }
 },
 "nbformat": 4,
 "nbformat_minor": 5
}
