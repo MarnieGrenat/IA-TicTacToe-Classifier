{
 "cells": [
  {
   "cell_type": "markdown",
   "metadata": {},
   "source": [
    "# Pipeline de Pré-processamento - Tic Tac Toe\n",
    "**Author**: Gabriela Dellamora Paim, Bruno Duarte Carlan\n",
    "\n",
    "**Version**: 12/04/2025\n",
    "\n",
    "**Python Ver**: 3.13.1"
   ]
  },
  {
   "cell_type": "code",
   "execution_count": null,
   "metadata": {},
   "outputs": [],
   "source": [
    "import pandas as pd\n",
    "\n",
    "PATH_OLD = './data_old/tic-tac-toe.data'\n",
    "PATH_NEW = './data_processed.csv'\n",
    "PATH_ON_GOING = './data_ongoing.csv'\n",
    "X_WIN   = X = '1'\n",
    "O_WIN   = O ='-1'\n",
    "DRAW    = '0'\n",
    "ONGOING = '0.5'"
   ]
  },
  {
   "cell_type": "code",
   "execution_count": null,
   "metadata": {},
   "outputs": [],
   "source": [
    "# Dataframe onde X sempre é quem começa\n",
    "df = pd.read_csv(PATH_OLD, index_col=False)\n",
    "df.columns = ['0', '1', '2', '3', '4', '5', '6', '7', '8', 'category']\n",
    "df.describe()"
   ]
  },
  {
   "cell_type": "markdown",
   "metadata": {},
   "source": [
    "# Tratar Dados Existentes"
   ]
  },
  {
   "cell_type": "code",
   "execution_count": null,
   "metadata": {},
   "outputs": [],
   "source": [
    "# Para facilitar a diferenciacao entre X venceu e O venceu\n",
    "df.replace(to_replace={'positive' : X_WIN}, inplace=True)"
   ]
  },
  {
   "cell_type": "code",
   "execution_count": null,
   "metadata": {},
   "outputs": [],
   "source": [
    "'''\n",
    "Removemos as observações em que O inicia o jogo pois:\n",
    "1 - Não segue as regras originais do jogo\n",
    "2 - Vamos diminuir o escopo de observações devido a limitação de 32 observações DRAW\n",
    "'''\n",
    "# Observações onde O começa\n",
    "# df_o_begins = df_x_begins.replace(to_replace={'o':'x', 'x':'o', X_WIN:O_WIN}).copy()\n",
    "\n",
    "# df_finished_tables = pd.concat([df_x_begins, df_o_begins], ignore_index=True).copy()\n",
    "# print(f'BEFORE={df_x_begins.shape} : AFTER={df_finished_tables.shape}')\n",
    "# df_o_begins.describe()\n",
    "print(df.category.unique())\n",
    "df.describe()"
   ]
  },
  {
   "cell_type": "code",
   "execution_count": null,
   "metadata": {},
   "outputs": [],
   "source": [
    "def get_state(symbol):\n",
    "    ''' Retorna simbolo utilizado pela pipeline.'''\n",
    "    match symbol.lower():\n",
    "        case 'o': return O_WIN\n",
    "        case 'x': return X_WIN\n",
    "    return DRAW\n",
    "\n",
    "def check_wins(obs):\n",
    "    '''Valida estado final do jogo. Pode ser O_WIN, X_WIN e DRAW. Trata casos que não precisam de alteração'''\n",
    "    # lazy evaluation\n",
    "    if obs.category != 'negative':\n",
    "        return obs.category\n",
    "\n",
    "    # Diagonais\n",
    "    if (obs.iloc[0] == obs.iloc[4] == obs.iloc[8]) or (obs.iloc[2] == obs.iloc[4] == obs.iloc[6]):\n",
    "        return get_state(obs.iloc[4])\n",
    "\n",
    "    for i in range(3):\n",
    "        # Linhas\n",
    "        if obs.iloc[0 + i] == obs.iloc[3 + i] == obs.iloc[6 + i]:\n",
    "            s = get_state(obs.iloc[0 + i])\n",
    "            if s != DRAW:\n",
    "                return s\n",
    "        # Colunas\n",
    "        if obs.iloc[0 + (i * 3)] == obs.iloc[1 + (i * 3)] == obs.iloc[2 + (i * 3)]:\n",
    "            s = get_state(obs.iloc[0 + (i * 3)])\n",
    "            if s != DRAW:\n",
    "                return s\n",
    "    return DRAW"
   ]
  },
  {
   "cell_type": "code",
   "execution_count": null,
   "metadata": {},
   "outputs": [],
   "source": [
    "df['category'] = df.apply(check_wins, axis=1)"
   ]
  },
  {
   "cell_type": "code",
   "execution_count": null,
   "metadata": {},
   "outputs": [],
   "source": [
    "print(df.category.unique())\n",
    "print(f'Total={df.shape}')\n",
    "print(f'Draw={df[df.category == DRAW].shape}')\n",
    "df.describe()\n",
    "df[df.category == DRAW].sample(10)"
   ]
  },
  {
   "cell_type": "code",
   "execution_count": null,
   "metadata": {},
   "outputs": [],
   "source": [
    "# Exportar\n",
    "df.to_csv(PATH_NEW, index=False)"
   ]
  },
  {
   "cell_type": "code",
   "execution_count": null,
   "metadata": {},
   "outputs": [],
   "source": [
    "df_ongoing = pd.read_csv(PATH_ON_GOING)\n",
    "df_ongoing['category'] = '~'\n",
    "df_ongoing = df_ongoing[['0', '1', '2', '3', '4', '5', '6', '7', '8', 'category']]"
   ]
  },
  {
   "cell_type": "code",
   "execution_count": null,
   "metadata": {},
   "outputs": [],
   "source": [
    "df_concat = pd.concat([df, df_ongoing], ignore_index=True)\n",
    "df_concat.to_csv('data_processed.csv', index=False)"
   ]
  }
 ],
 "metadata": {
  "kernelspec": {
   "display_name": "AI-TicTacToe",
   "language": "python",
   "name": "python3"
  },
  "language_info": {
   "codemirror_mode": {
    "name": "ipython",
    "version": 3
   },
   "file_extension": ".py",
   "mimetype": "text/x-python",
   "name": "python",
   "nbconvert_exporter": "python",
   "pygments_lexer": "ipython3",
   "version": "3.13.1"
  }
 },
 "nbformat": 4,
 "nbformat_minor": 2
}
