{
 "cells": [
  {
   "cell_type": "markdown",
   "metadata": {},
   "source": [
    "# Pipeline de Pré-processamento - Tic Tac Toe\n",
    "**Author**: Gabriela Dellamora Paim, Bruno Duarte Carlan\n",
    "\n",
    "**Version**: 12/04/2025\n",
    "\n",
    "**Python Ver**: 3.12.9"
   ]
  },
  {
   "cell_type": "code",
   "execution_count": null,
   "metadata": {},
   "outputs": [],
   "source": [
    "import pandas as pd\n",
    "\n",
    "PATH_OLD = './data_old/tic-tac-toe.data'\n",
    "PATH_NEW = './data_old/data_processed.csv'\n",
    "PATH_ONGOING = './data_old/data_ongoing.csv'\n",
    "\n",
    "X = 1\n",
    "O = -1\n",
    "BLANK = 0\n",
    "\n",
    "O_WIN   = 0\n",
    "DRAW    = 1\n",
    "ONGOING = 2\n",
    "X_WIN   = 3"
   ]
  },
  {
   "cell_type": "code",
   "execution_count": null,
   "metadata": {},
   "outputs": [],
   "source": [
    "# Dataframe onde X sempre é quem começa\n",
    "df_x_begins = pd.read_csv(PATH_OLD, index_col=False)\n",
    "df_x_begins.columns = ['0', '1', '2', '3', '4', '5', '6', '7', '8', 'category']\n",
    "df_x_begins.describe()"
   ]
  },
  {
   "cell_type": "markdown",
   "metadata": {},
   "source": [
    "# Tratar Dados Existentes"
   ]
  },
  {
   "cell_type": "code",
   "execution_count": null,
   "metadata": {},
   "outputs": [],
   "source": [
    "# Para facilitar a diferenciacao entre X venceu e O venceu\n",
    "df_x_begins.replace(to_replace={'x' : X, 'o' : O, 'b' : BLANK, 'positive' : X_WIN}, inplace=True)"
   ]
  },
  {
   "cell_type": "code",
   "execution_count": null,
   "metadata": {},
   "outputs": [],
   "source": [
    "# Observações onde O começa\n",
    "df_o_begins = df_x_begins.replace(to_replace={X:O, O:X, X_WIN:O_WIN})\n",
    "\n",
    "df = pd.concat([df_x_begins, df_o_begins], ignore_index=True).copy()\n",
    "print(f'BEFORE={df_x_begins.shape} : AFTER={df.shape}')\n",
    "\n",
    "print(df.category.unique())\n",
    "df.describe()"
   ]
  },
  {
   "cell_type": "code",
   "execution_count": null,
   "metadata": {},
   "outputs": [],
   "source": [
    "def get_state(symbol):\n",
    "    ''' Retorna simbolo utilizado pela pipeline.'''\n",
    "    if symbol == O: return O_WIN\n",
    "    if symbol == X: return X_WIN\n",
    "    return DRAW\n",
    "\n",
    "def check_wins(obs):\n",
    "    '''Valida estado final do jogo. Pode ser O_WIN, X_WIN e DRAW. Trata casos que não precisam de alteração'''\n",
    "    # lazy evaluation\n",
    "    if obs.category != 'negative':\n",
    "        return obs.category\n",
    "\n",
    "    # Diagonais\n",
    "    if (obs.iloc[0] == obs.iloc[4] == obs.iloc[8] != BLANK) or (obs.iloc[2] == obs.iloc[4] == obs.iloc[6] != BLANK):\n",
    "        return get_state(obs.iloc[4])\n",
    "\n",
    "    for i in range(3):\n",
    "        # Linhas\n",
    "        if obs.iloc[0 + i] == obs.iloc[3 + i] == obs.iloc[6 + i] != BLANK:\n",
    "            return get_state(obs.iloc[0 + i])\n",
    "        # Colunas\n",
    "        if obs.iloc[0 + (i * 3)] == obs.iloc[1 + (i * 3)] == obs.iloc[2 + (i * 3)] != BLANK:\n",
    "            return get_state(obs.iloc[0 + (i * 3)])\n",
    "    return DRAW"
   ]
  },
  {
   "cell_type": "code",
   "execution_count": null,
   "metadata": {},
   "outputs": [],
   "source": [
    "df['category'] = df.apply(check_wins, axis=1)"
   ]
  },
  {
   "cell_type": "code",
   "execution_count": null,
   "metadata": {},
   "outputs": [],
   "source": [
    "print(df.category.unique())\n",
    "print(f'Total={df.shape}')\n",
    "print(f'Draw={df[df.category == DRAW].shape}')\n",
    "df.describe()\n",
    "df[df.category == DRAW].sample(10)"
   ]
  },
  {
   "cell_type": "code",
   "execution_count": null,
   "metadata": {},
   "outputs": [],
   "source": [
    "# Exportar\n",
    "df.to_csv(PATH_NEW, index=False)"
   ]
  },
  {
   "cell_type": "code",
   "execution_count": null,
   "metadata": {},
   "outputs": [],
   "source": []
  }
 ],
 "metadata": {
  "kernelspec": {
   "display_name": "AI-TicTacToe",
   "language": "python",
   "name": "python3"
  },
  "language_info": {
   "codemirror_mode": {
    "name": "ipython",
    "version": 3
   },
   "file_extension": ".py",
   "mimetype": "text/x-python",
   "name": "python",
   "nbconvert_exporter": "python",
   "pygments_lexer": "ipython3",
   "version": "3.12.9"
  }
 },
 "nbformat": 4,
 "nbformat_minor": 2
}
