{
 "cells": [
  {
   "cell_type": "markdown",
   "metadata": {},
   "source": [
    "# Oversampling"
   ]
  },
  {
   "cell_type": "code",
   "execution_count": null,
   "metadata": {},
   "outputs": [],
   "source": [
    "import pandas as pd\n",
    "from imblearn.over_sampling import RandomOverSampler\n",
    "from imblearn.under_sampling import RandomUnderSampler\n",
    "import matplotlib.pyplot as plt\n",
    "\n",
    "OLD_PATH = 'data.csv'\n",
    "NEW_PATH = 'data_undersampled.csv'\n",
    "X = 1\n",
    "O = -1\n",
    "BLANK = 0\n",
    "\n",
    "O_WIN   = 0\n",
    "DRAW    = 1\n",
    "ONGOING = 2\n",
    "X_WIN   = 3"
   ]
  },
  {
   "cell_type": "markdown",
   "metadata": {},
   "source": [
    "# Undersampling"
   ]
  },
  {
   "cell_type": "code",
   "execution_count": null,
   "metadata": {},
   "outputs": [],
   "source": [
    "df = pd.read_csv(OLD_PATH)\n",
    "\n",
    "# Corrigi no dataset, não precisa mais mapear\n",
    "mapping = {\n",
    "    -1.0: 0,   # O_WIN\n",
    "     0.0: 1,   # DRAW\n",
    "     0.5: 2,   # ONGOING\n",
    "     1.0: 3    # X_WIN\n",
    "}\n",
    "reverse_mapping = {v: k for k, v in mapping.items()}\n",
    "df[\"category\"] = df[\"category\"].map(mapping)\n",
    "\n",
    "# Descrição do dataset original\n",
    "print(\"📌 Dataset original:\")\n",
    "print(df[\"category\"].value_counts())\n",
    "\n",
    "# Separa features e target\n",
    "X = df.drop(columns=[\"category\"])\n",
    "y = df[\"category\"]\n",
    "\n",
    "# Aplica undersampling\n",
    "rus = RandomUnderSampler(random_state=42)\n",
    "X_resampled, y_resampled = rus.fit_resample(X, y)\n",
    "\n",
    "# Junta novamente\n",
    "df_undersampled = pd.DataFrame(X_resampled, columns=X.columns)\n",
    "df_undersampled[\"category\"] = y_resampled.map(reverse_mapping)  # mapeia de volta\n",
    "\n",
    "# Descrição do dataset balanceado\n",
    "print(\"\\n✅ Dataset após undersampling:\")\n",
    "print(df_undersampled[\"category\"].value_counts())\n",
    "\n",
    "# Exporta CSV\n",
    "df_undersampled.to_csv(NEW_PATH, index=False)\n",
    "print(\"📁 Dataset com undersampling salvo como 'data_undersampled.csv'\")"
   ]
  },
  {
   "cell_type": "code",
   "execution_count": null,
   "metadata": {},
   "outputs": [],
   "source": []
  }
 ],
 "metadata": {
  "kernelspec": {
   "display_name": "AI-TicTacToe",
   "language": "python",
   "name": "python3"
  },
  "language_info": {
   "codemirror_mode": {
    "name": "ipython",
    "version": 3
   },
   "file_extension": ".py",
   "mimetype": "text/x-python",
   "name": "python",
   "nbconvert_exporter": "python",
   "pygments_lexer": "ipython3",
   "version": "3.12.9"
  }
 },
 "nbformat": 4,
 "nbformat_minor": 2
}
