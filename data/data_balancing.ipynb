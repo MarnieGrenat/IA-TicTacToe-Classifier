{
 "cells": [
  {
   "cell_type": "markdown",
   "metadata": {},
   "source": [
    "# Oversampling"
   ]
  },
  {
   "cell_type": "code",
   "execution_count": 10,
   "metadata": {},
   "outputs": [
    {
     "name": "stdout",
     "output_type": "stream",
     "text": [
      "📌 Dataset original:\n",
      "category\n",
      "3    941\n",
      "0    941\n",
      "2    128\n",
      "1     32\n",
      "Name: count, dtype: int64\n",
      "\n",
      "✅ Dataset após oversampling:\n",
      "category\n",
      " 1.0    941\n",
      "-1.0    941\n",
      " 0.0    941\n",
      " 0.5    941\n",
      "Name: count, dtype: int64\n",
      "📁 Dataset com oversampling salvo como 'data_oversampled.csv'\n"
     ]
    }
   ],
   "source": [
    "import pandas as pd\n",
    "from imblearn.over_sampling import RandomOverSampler\n",
    "import matplotlib.pyplot as plt\n",
    "# Carrega o dataset\n",
    "df = pd.read_csv(\"data.csv\")\n",
    "\n",
    "# Aplica o mapeamento de classes\n",
    "mapping = {\n",
    "    -1.0: 0,   # O_WIN\n",
    "     0.0: 1,   # DRAW\n",
    "     0.5: 2,   # ONGOING\n",
    "     1.0: 3    # X_WIN\n",
    "}\n",
    "reverse_mapping = {v: k for k, v in mapping.items()}\n",
    "df[\"category\"] = df[\"category\"].map(mapping)\n",
    "\n",
    "# Descrição do dataset original\n",
    "print(\"📌 Dataset original:\")\n",
    "print(df[\"category\"].value_counts())\n",
    "\n",
    "# Separa features e target\n",
    "X = df.drop(columns=[\"category\"])\n",
    "y = df[\"category\"]\n",
    "\n",
    "# Aplica oversampling\n",
    "ros = RandomOverSampler(random_state=42)\n",
    "X_resampled, y_resampled = ros.fit_resample(X, y)\n",
    "\n",
    "# Junta novamente\n",
    "df_oversampled = pd.DataFrame(X_resampled, columns=X.columns)\n",
    "df_oversampled[\"category\"] = y_resampled.map(reverse_mapping)  # mapeia de volta\n",
    "\n",
    "# Descrição do dataset balanceado\n",
    "print(\"\\n✅ Dataset após oversampling:\")\n",
    "print(df_oversampled[\"category\"].value_counts())\n",
    "\n",
    "# Exporta CSV\n",
    "df_oversampled.to_csv(\"data_oversampled.csv\", index=False)\n",
    "print(\"📁 Dataset com oversampling salvo como 'data_oversampled.csv'\")\n"
   ]
  },
  {
   "cell_type": "markdown",
   "metadata": {},
   "source": [
    "# Undersampling"
   ]
  },
  {
   "cell_type": "code",
   "execution_count": 11,
   "metadata": {},
   "outputs": [
    {
     "name": "stdout",
     "output_type": "stream",
     "text": [
      "📌 Dataset original:\n",
      "category\n",
      "3    941\n",
      "0    941\n",
      "2    128\n",
      "1     32\n",
      "Name: count, dtype: int64\n",
      "\n",
      "✅ Dataset após undersampling:\n",
      "category\n",
      "-1.0    32\n",
      " 0.0    32\n",
      " 0.5    32\n",
      " 1.0    32\n",
      "Name: count, dtype: int64\n",
      "📁 Dataset com undersampling salvo como 'data_undersampled.csv'\n"
     ]
    }
   ],
   "source": [
    "import pandas as pd\n",
    "from imblearn.under_sampling import RandomUnderSampler\n",
    "\n",
    "# Carrega o dataset\n",
    "df = pd.read_csv(\"data.csv\")\n",
    "\n",
    "# Aplica o mapeamento de classes\n",
    "mapping = {\n",
    "    -1.0: 0,   # O_WIN\n",
    "     0.0: 1,   # DRAW\n",
    "     0.5: 2,   # ONGOING\n",
    "     1.0: 3    # X_WIN\n",
    "}\n",
    "reverse_mapping = {v: k for k, v in mapping.items()}\n",
    "df[\"category\"] = df[\"category\"].map(mapping)\n",
    "\n",
    "# Descrição do dataset original\n",
    "print(\"📌 Dataset original:\")\n",
    "print(df[\"category\"].value_counts())\n",
    "\n",
    "# Separa features e target\n",
    "X = df.drop(columns=[\"category\"])\n",
    "y = df[\"category\"]\n",
    "\n",
    "# Aplica undersampling\n",
    "rus = RandomUnderSampler(random_state=42)\n",
    "X_resampled, y_resampled = rus.fit_resample(X, y)\n",
    "\n",
    "# Junta novamente\n",
    "df_undersampled = pd.DataFrame(X_resampled, columns=X.columns)\n",
    "df_undersampled[\"category\"] = y_resampled.map(reverse_mapping)  # mapeia de volta\n",
    "\n",
    "# Descrição do dataset balanceado\n",
    "print(\"\\n✅ Dataset após undersampling:\")\n",
    "print(df_undersampled[\"category\"].value_counts())\n",
    "\n",
    "# Exporta CSV\n",
    "df_undersampled.to_csv(\"data_undersampled.csv\", index=False)\n",
    "print(\"📁 Dataset com undersampling salvo como 'data_undersampled.csv'\")"
   ]
  }
 ],
 "metadata": {
  "kernelspec": {
   "display_name": "Python 3",
   "language": "python",
   "name": "python3"
  },
  "language_info": {
   "name": "python",
   "version": "3.13.2"
  }
 },
 "nbformat": 4,
 "nbformat_minor": 2
}
