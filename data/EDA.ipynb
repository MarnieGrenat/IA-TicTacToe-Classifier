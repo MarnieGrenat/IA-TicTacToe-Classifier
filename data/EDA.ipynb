{
 "cells": [
  {
   "cell_type": "markdown",
   "id": "2b674848",
   "metadata": {},
   "source": [
    "# Exploratory Data Analysis - Tic Tac Toe\n",
    "**Author**: Gabriela Dellamora Paim, Bruno Duarte Carlan\n",
    "\n",
    "**Version**: 14/04/2025\n",
    "\n",
    "**Python Ver**: 3.12.9"
   ]
  },
  {
   "cell_type": "code",
   "execution_count": 1,
   "id": "1a388169",
   "metadata": {},
   "outputs": [
    {
     "name": "stderr",
     "output_type": "stream",
     "text": [
      "c:\\Users\\Marnie\\anaconda3\\envs\\AI-TicTacToe\\Lib\\site-packages\\tqdm\\auto.py:21: TqdmWarning: IProgress not found. Please update jupyter and ipywidgets. See https://ipywidgets.readthedocs.io/en/stable/user_install.html\n",
      "  from .autonotebook import tqdm as notebook_tqdm\n"
     ]
    },
    {
     "data": {
      "text/html": [
       "\n",
       "            <div>\n",
       "                <ins><a href=\"https://ydata.ai/register\">Upgrade to ydata-sdk</a></ins>\n",
       "                <p>\n",
       "                    Improve your data and profiling with ydata-sdk, featuring data quality scoring, redundancy detection, outlier identification, text validation, and synthetic data generation.\n",
       "                </p>\n",
       "            </div>\n",
       "            "
      ],
      "text/plain": [
       "<IPython.core.display.HTML object>"
      ]
     },
     "metadata": {},
     "output_type": "display_data"
    }
   ],
   "source": [
    "import pandas as pd\n",
    "import seaborn as sns\n",
    "import matplotlib.pyplot as plt\n",
    "from ydata_profiling import ProfileReport\n",
    "# Importar libs de visualização.\n",
    "\n",
    "PATH = './data.csv'\n",
    "X_WIN   = X = '1'\n",
    "O_WIN   = O ='-1'\n",
    "DRAW    = '0'\n",
    "ONGOING = '0.5'"
   ]
  },
  {
   "cell_type": "code",
   "execution_count": null,
   "id": "57ea1111",
   "metadata": {},
   "outputs": [],
   "source": [
    "# Estatísticas descritivas das colunas (somente para numéricos, target no caso)\n",
    "df = pd.read_csv(PATH)\n",
    "df.describe()"
   ]
  },
  {
   "cell_type": "code",
   "execution_count": null,
   "id": "401b7bd5",
   "metadata": {},
   "outputs": [],
   "source": [
    "# Exibir as primeiras linhas do dataset para inspeção inicial\n",
    "print(\"\\nPrimeiras linhas do dataset:\")\n",
    "print(df.head())"
   ]
  },
  {
   "cell_type": "code",
   "execution_count": null,
   "metadata": {},
   "outputs": [],
   "source": [
    "# Verificar o tamanho do dataset\n",
    "print(\"\\nDimensões do dataset:\")\n",
    "print(df.shape)"
   ]
  },
  {
   "cell_type": "code",
   "execution_count": null,
   "metadata": {},
   "outputs": [],
   "source": [
    "# Verificar valores únicos por coluna\n",
    "print(\"\\nValores únicos por coluna:\")\n",
    "for col in df.columns:\n",
    "    print(f\"\\nColuna '{col}':\")\n",
    "    print(df[col].value_counts())"
   ]
  },
  {
   "cell_type": "code",
   "execution_count": null,
   "metadata": {},
   "outputs": [],
   "source": [
    "# Análise da variável alvo\n",
    "print(\"\\nDistribuição da variável alvo (category):\")\n",
    "print(df['category'].value_counts(normalize=True))"
   ]
  },
  {
   "cell_type": "code",
   "execution_count": null,
   "metadata": {},
   "outputs": [],
   "source": [
    "# Visualização da distribuição da variável alvo\n",
    "plt.figure(figsize=(6, 4))\n",
    "sns.countplot(x='category', data=df, palette='viridis')\n",
    "plt.title('Distribuição da variável alvo (category)')\n",
    "plt.xlabel('Category')\n",
    "plt.ylabel('Contagem')\n",
    "plt.show()"
   ]
  },
  {
   "cell_type": "code",
   "execution_count": null,
   "metadata": {},
   "outputs": [],
   "source": [
    "# Visualizar distribuições dos valores em cada coluna do tabuleiro (corrigido)\n",
    "cols = df.columns[:-1]  # Excluir a coluna 'category'\n",
    "num_cols = len(cols)\n",
    "\n",
    "# Calcular número de linhas e colunas para o subplot dinamicamente\n",
    "n_cols = 3\n",
    "n_rows = (num_cols + n_cols - 1) // n_cols  # Arredondar para cima\n",
    "\n",
    "fig, axes = plt.subplots(n_rows, n_cols, figsize=(5 * n_cols, 4 * n_rows))\n",
    "fig.suptitle('Distribuição dos valores em cada posição do tabuleiro', fontsize=16)\n",
    "\n",
    "# Se axes for 1D, transformar em 2D para evitar erros\n",
    "if n_rows == 1:\n",
    "    axes = [axes]\n",
    "axes = axes.flatten()\n",
    "\n",
    "# Plotar cada coluna\n",
    "for i, col in enumerate(cols):\n",
    "    sns.countplot(x=col, hue=col, data=df, ax=axes[i], palette='Set2', legend=False)\n",
    "    axes[i].set_title(f'Posição {col}')\n",
    "    axes[i].set_xlabel('Valor')\n",
    "    axes[i].set_ylabel('Contagem')\n",
    "\n",
    "# Remover subplots vazios\n",
    "for j in range(i + 1, len(axes)):\n",
    "    fig.delaxes(axes[j])\n",
    "\n",
    "plt.tight_layout(rect=[0, 0.03, 1, 0.95])\n",
    "plt.show()"
   ]
  },
  {
   "cell_type": "code",
   "execution_count": null,
   "metadata": {},
   "outputs": [],
   "source": [
    "# Análise cruzada: posição 0 x category\n",
    "print(\"\\nCruzamento entre a posição 0 e a variável category:\")\n",
    "cross_tab = pd.crosstab(df['0'], df['category'])\n",
    "print(cross_tab)"
   ]
  },
  {
   "cell_type": "code",
   "execution_count": null,
   "metadata": {},
   "outputs": [],
   "source": [
    "# Heatmap para visualizar a correlação entre posições e categoria\n",
    "plt.figure(figsize=(8, 6))\n",
    "sns.heatmap(cross_tab, annot=True, fmt='d', cmap='YlGnBu')\n",
    "plt.title('Heatmap - Posição 0 vs Category')\n",
    "plt.ylabel('Valor na posição 0')\n",
    "plt.xlabel('Category')\n",
    "plt.show()"
   ]
  }
 ],
 "metadata": {
  "kernelspec": {
   "display_name": "AI-TicTacToe",
   "language": "python",
   "name": "python3"
  },
  "language_info": {
   "codemirror_mode": {
    "name": "ipython",
    "version": 3
   },
   "file_extension": ".py",
   "mimetype": "text/x-python",
   "name": "python",
   "nbconvert_exporter": "python",
   "pygments_lexer": "ipython3",
   "version": "3.13.2"
  }
 },
 "nbformat": 4,
 "nbformat_minor": 5
}
