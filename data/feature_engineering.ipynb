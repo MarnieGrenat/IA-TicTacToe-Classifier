{
 "cells": [
  {
   "cell_type": "markdown",
   "id": "7a9dd7fb",
   "metadata": {},
   "source": [
    "# Pipeline de Geração de Observações - Tic Tac Toe\n",
    "**Author**: Gabriela Dellamora Paim, Bruno Carlan\n",
    "\n",
    "**Version**: 12/04/2025\n",
    "\n",
    "**Python Ver**: 3.12.9"
   ]
  },
  {
   "cell_type": "markdown",
   "id": "663291b6",
   "metadata": {},
   "source": [
    "## Checklist para geração das 64 observações de tabuleiros *in_progress*\n"
   ]
  },
  {
   "cell_type": "code",
   "execution_count": null,
   "id": "4255ecb0",
   "metadata": {},
   "outputs": [],
   "source": [
    "import pandas as pd\n",
    "import random\n",
    "import itertools\n",
    "from collections import defaultdict\n",
    "from math import ceil\n",
    "\n",
    "PATH_OLD = './data_old/data_processed.csv'\n",
    "PATH_NEW = './data.csv'\n",
    "PATH_ONGOING = './data_old/data_ongoing.csv'\n",
    "\n",
    "X = 1\n",
    "O = -1\n",
    "BLANK = 0\n",
    "\n",
    "O_WIN   = 0\n",
    "DRAW    = 1\n",
    "ONGOING = 2\n",
    "X_WIN   = 3\n",
    "\n",
    "random.seed(42)"
   ]
  },
  {
   "cell_type": "code",
   "execution_count": null,
   "id": "21d2a9d2",
   "metadata": {},
   "outputs": [],
   "source": [
    "df_processed = pd.read_csv(PATH_OLD, index_col=False)\n",
    "df_processed.columns = ['0', '1', '2', '3', '4', '5', '6', '7', '8', 'category']\n",
    "df_processed.describe()"
   ]
  },
  {
   "cell_type": "markdown",
   "id": "53d7f349",
   "metadata": {},
   "source": [
    "# Gerar dados Ongoing. Utilizar um critério de observação adequado\n",
    "1. Gerar todas possibilidades\n",
    "2. Aplicar critério de observação\n",
    "3. Salvar em um csv"
   ]
  },
  {
   "cell_type": "code",
   "execution_count": null,
   "id": "3a21634a",
   "metadata": {},
   "outputs": [],
   "source": [
    "import itertools, random\n",
    "import pandas as pd\n",
    "\n",
    "BLANK = 0\n",
    "X     = 1\n",
    "O     = -1\n",
    "\n",
    "WIN_LINES = [\n",
    "    (0,1,2),(3,4,5),(6,7,8),\n",
    "    (0,3,6),(1,4,7),(2,5,8),\n",
    "    (0,4,8),(2,4,6),\n",
    "]\n",
    "\n",
    "def is_nonterminal(board):\n",
    "    for a,b,c in WIN_LINES:\n",
    "        v = board[a]\n",
    "        if v != BLANK and v == board[b] == board[c]:\n",
    "            return False\n",
    "    return True\n",
    "\n",
    "def generate_all_inprogress(starting_players=(X, O)):\n",
    "    all_states = []\n",
    "    for sp in starting_players:\n",
    "        op = X if sp == O else O\n",
    "        for k in range(1, 9):\n",
    "            n_sp = (k + (1 if sp == X else 0)) // 2\n",
    "            n_op = k - n_sp\n",
    "            for pos_sp in itertools.combinations(range(9), n_sp):\n",
    "                rem = set(range(9)) - set(pos_sp)\n",
    "                for pos_op in itertools.combinations(rem, n_op):\n",
    "                    board = [BLANK]*9\n",
    "                    for i in pos_sp: board[i] = sp\n",
    "                    for i in pos_op: board[i] = op\n",
    "                    if abs(n_sp - n_op) > 1: continue\n",
    "                    if not is_nonterminal(board): continue\n",
    "                    next_player = sp if (k % 2 == 0) else op\n",
    "                    # **flatten** board + metadata numa única lista\n",
    "                    all_states.append(board.copy() + [ONGOING, k, next_player])\n",
    "    random.shuffle(all_states)\n",
    "    return all_states\n"
   ]
  },
  {
   "cell_type": "code",
   "execution_count": null,
   "id": "dabe82cf",
   "metadata": {},
   "outputs": [],
   "source": [
    "all_states = generate_all_inprogress(starting_players=(X,)) + generate_all_inprogress(starting_players=(O,))\n",
    "random.shuffle(all_states)\n",
    "all_states[0]"
   ]
  },
  {
   "cell_type": "code",
   "execution_count": null,
   "id": "b3ca203a",
   "metadata": {},
   "outputs": [],
   "source": [
    "cols = [str(i) for i in range(9)] + ['category', 'n_jogadas','jogador_vez']\n",
    "df = pd.DataFrame(all_states, columns=cols)\n",
    "\n",
    "# remove linhas que tiverem as mesmas 9 células\n",
    "df = df.drop_duplicates(subset=[str(i) for i in range(9)], keep='first', ignore_index=True)\n",
    "df.sample(10)"
   ]
  },
  {
   "cell_type": "code",
   "execution_count": null,
   "id": "32404e49",
   "metadata": {},
   "outputs": [],
   "source": [
    "print(df.n_jogadas.value_counts())\n",
    "targets = {\n",
    "    1: 50, # 18,\n",
    "    2: 50, # 36,\n",
    "    3: 50, # 72,\n",
    "    4: 50, # 72,\n",
    "    5: 50, # 144,\n",
    "    6: 50, # 144,\n",
    "    7: 50, # 288,\n",
    "    8: 50  # 444\n",
    "}"
   ]
  },
  {
   "cell_type": "code",
   "execution_count": null,
   "id": "b637a58a",
   "metadata": {},
   "outputs": [],
   "source": [
    "df_ongoing = pd.DataFrame(columns=df.columns)\n",
    "\n",
    "for label, n in targets.items():\n",
    "    df_label = df[df['n_jogadas'] == label]\n",
    "    df_label = df_label.sample(\n",
    "        n=min(len(df_label), n),\n",
    "        random_state=42\n",
    "    )\n",
    "    df_ongoing = pd.concat([df_ongoing, df_label], ignore_index=True)\n",
    "\n",
    "print(df_ongoing['n_jogadas'].value_counts())\n",
    "print(df_ongoing.sample(10))\n"
   ]
  },
  {
   "cell_type": "code",
   "execution_count": null,
   "id": "d437fa22",
   "metadata": {},
   "outputs": [],
   "source": [
    "# concatena os datasets para termos o nosso dataset tratado\n",
    "df_ongoing.drop(columns=['n_jogadas', 'jogador_vez'], inplace=True)\n",
    "pd.concat([df_processed, df_ongoing]).to_csv(PATH_NEW, index=False)"
   ]
  }
 ],
 "metadata": {
  "kernelspec": {
   "display_name": "AI-TicTacToe",
   "language": "python",
   "name": "python3"
  },
  "language_info": {
   "codemirror_mode": {
    "name": "ipython",
    "version": 3
   },
   "file_extension": ".py",
   "mimetype": "text/x-python",
   "name": "python",
   "nbconvert_exporter": "python",
   "pygments_lexer": "ipython3",
   "version": "3.12.9"
  }
 },
 "nbformat": 4,
 "nbformat_minor": 5
}
