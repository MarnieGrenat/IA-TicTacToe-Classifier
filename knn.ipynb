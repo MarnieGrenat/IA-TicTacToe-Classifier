{
 "cells": [
  {
   "cell_type": "code",
   "execution_count": null,
   "id": "09170b91",
   "metadata": {},
   "outputs": [],
   "source": [
    "import pandas as pd\n",
    "from sklearn.neighbors import KNeighborsClassifier\n",
    "from sklearn.model_selection import train_test_split\n",
    "from sklearn.metrics import classification_report\n",
    "import joblib"
   ]
  },
  {
   "cell_type": "code",
   "execution_count": null,
   "id": "a508d255",
   "metadata": {},
   "outputs": [],
   "source": [
    "PATH = './data/data.csv'\n",
    "PATH_OVERSAMPLED = './data/data_oversampled.csv'\n",
    "MODEL_PATH = 'models/mlp.pkl'\n",
    "X_WIN   = X = '1'\n",
    "O_WIN   = O ='-1'\n",
    "DRAW    = '0'\n",
    "ONGOING = '0.5'"
   ]
  },
  {
   "cell_type": "code",
   "execution_count": null,
   "id": "30e8f98d",
   "metadata": {},
   "outputs": [],
   "source": [
    "df = pd.read_csv(PATH)\n",
    "feature_cols = [str(i) for i in range(9)]\n",
    "X = df[feature_cols]\n",
    "\n",
    "mapping = {\n",
    "    -1.0: 0,   # O_WIN\n",
    "     0.0: 1,   # DRAW\n",
    "     0.5: 2,   # ONGOING\n",
    "     1.0: 3    # X_WIN\n",
    "}\n",
    "\n",
    "y = df['category'].map(mapping)\n",
    "df.sample(10)"
   ]
  },
  {
   "cell_type": "code",
   "execution_count": null,
   "id": "8036380c",
   "metadata": {},
   "outputs": [],
   "source": [
    "X_train, X_temp, y_train, y_temp = train_test_split(\n",
    "    X, y, test_size=0.4, random_state=42, stratify=y\n",
    ")\n",
    "X_val, X_test, y_val, y_test = train_test_split(\n",
    "    X_temp, y_temp, test_size=0.5, random_state=42, stratify=y_temp\n",
    ")"
   ]
  },
  {
   "cell_type": "code",
   "execution_count": null,
   "id": "8289b3a9",
   "metadata": {},
   "outputs": [],
   "source": [
    "knn = KNeighborsClassifier(\n",
    "    n_neighbors=5,       # número de vizinhos, ajuste via CV se quiser\n",
    "    weights='uniform',   # ou 'distance'\n",
    "    metric='minkowski',  # p=2 é distância Euclidiana\n",
    "    p=2\n",
    ")\n",
    "knn.fit(X_train, y_train)"
   ]
  },
  {
   "cell_type": "code",
   "execution_count": null,
   "id": "48233073",
   "metadata": {},
   "outputs": [],
   "source": [
    "y_pred = knn.predict(X_val)\n",
    "print(classification_report(y_val, y_pred, digits=4))"
   ]
  },
  {
   "cell_type": "code",
   "execution_count": null,
   "id": "572c5ef9",
   "metadata": {},
   "outputs": [],
   "source": [
    "MODEL_PATH = 'models/knn_tictactoe.pkl'\n",
    "joblib.dump(knn, MODEL_PATH)\n",
    "print(f'KNN salvo em {MODEL_PATH}')"
   ]
  }
 ],
 "metadata": {
  "kernelspec": {
   "display_name": "AI-TicTacToe",
   "language": "python",
   "name": "python3"
  },
  "language_info": {
   "codemirror_mode": {
    "name": "ipython",
    "version": 3
   },
   "file_extension": ".py",
   "mimetype": "text/x-python",
   "name": "python",
   "nbconvert_exporter": "python",
   "pygments_lexer": "ipython3",
   "version": "3.13.2"
  }
 },
 "nbformat": 4,
 "nbformat_minor": 5
}
